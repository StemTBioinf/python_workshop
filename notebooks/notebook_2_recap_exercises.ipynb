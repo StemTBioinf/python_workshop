{
 "cells": [
  {
   "cell_type": "markdown",
   "metadata": {},
   "source": [
    "# Exercise 2\n",
    "\n",
    "Run the code in the cells by clicking the cell and pressing CTRL + ENTER.\n",
    "\n",
    "## 2.1 Strings & Printing.\n",
    "\n",
    "First we want to recap printing out some text. As you saw earlier text is called __strings__.\n",
    "Let's save the strings **Jon** and **Snow** as two different variables so we can use them later."
   ]
  },
  {
   "cell_type": "code",
   "execution_count": null,
   "metadata": {},
   "outputs": [],
   "source": [
    "firstname = 'Jon'\n",
    "lastname = Snow"
   ]
  },
  {
   "cell_type": "markdown",
   "metadata": {},
   "source": [
    "**The above code does not work because it contains an error.\n",
    "Why did it not work? \n",
    "Fix the code so that it works. Rerun the code to make sure there is no error message.**\n",
    "\n",
    "Now print the first and lastname using the saved variables. \n",
    "Don't forget the space in between."
   ]
  },
  {
   "cell_type": "code",
   "execution_count": 9,
   "metadata": {},
   "outputs": [
    {
     "name": "stdout",
     "output_type": "stream",
     "text": [
      "\n"
     ]
    }
   ],
   "source": [
    "print() # should print \"Jon Snow\""
   ]
  },
  {
   "cell_type": "markdown",
   "metadata": {},
   "source": [
    "Now let's make a function that takes a first and lastname, replaces the first name with \"Dr. \" and returns the new name. "
   ]
  },
  {
   "cell_type": "code",
   "execution_count": null,
   "metadata": {},
   "outputs": [],
   "source": [
    "def doctorate(firstname, lastname):\n",
    "    # Add your code here\n",
    "    #\n",
    "    return(new_name)"
   ]
  },
  {
   "cell_type": "code",
   "execution_count": null,
   "metadata": {},
   "outputs": [],
   "source": [
    "print(doctorate(firstname, lastname)) # should print \"Dr. Snow\""
   ]
  },
  {
   "cell_type": "markdown",
   "metadata": {},
   "source": [
    "### Now let's do something a little bit harder..\n",
    "We want to remake the doctorate function we wrote above. But this time it takes the full name as one input variable.\n",
    "First make a new variable that contains the full name. Again, don't forget the space. "
   ]
  },
  {
   "cell_type": "code",
   "execution_count": null,
   "metadata": {
    "scrolled": true
   },
   "outputs": [],
   "source": [
    "fullname = "
   ]
  },
  {
   "cell_type": "markdown",
   "metadata": {},
   "source": [
    "Python has many handy built in functions, one of these is the **find** function.\n",
    "It can be used to find a character in a string.<br>\n",
    "Example:"
   ]
  },
  {
   "cell_type": "code",
   "execution_count": null,
   "metadata": {},
   "outputs": [],
   "source": [
    "index = fullname.find(\"J\")\n",
    "print(index)"
   ]
  },
  {
   "cell_type": "markdown",
   "metadata": {},
   "source": [
    "Remember that python is uses 0-based indexing!\n",
    "\n",
    "Now fill in the function below. It should take a full name (like \"Jon Snow\") and return the last name with \"Dr.\" before.<br>\n",
    "Hint: use the find function to find the space between the names and the colon operator to extract the last name"
   ]
  },
  {
   "cell_type": "code",
   "execution_count": null,
   "metadata": {},
   "outputs": [],
   "source": [
    "def smarter_doctorate(fullname):\n",
    "    # Add your code here\n",
    "    #\n",
    "    return"
   ]
  },
  {
   "cell_type": "code",
   "execution_count": null,
   "metadata": {},
   "outputs": [],
   "source": [
    "print(smarter_doctorate(fullname))\n",
    "print(smarter_doctorate(\"\")) # try it with some other names!"
   ]
  },
  {
   "cell_type": "markdown",
   "metadata": {},
   "source": [
    "## 2.2 Arithmetics\n",
    "To practice arithmetics we will do some basic geometry functions.\n",
    "Make a function that calculates the surface area of a circle."
   ]
  },
  {
   "cell_type": "code",
   "execution_count": 4,
   "metadata": {},
   "outputs": [],
   "source": [
    "def circle_area(radius):\n",
    "    # Add code here\n",
    "    return"
   ]
  },
  {
   "cell_type": "code",
   "execution_count": null,
   "metadata": {},
   "outputs": [],
   "source": [
    "# Test your function\n",
    "print(circle_area(4)) # should print 50.24 (or thereabout)\n",
    "print() # test it with some other value!"
   ]
  },
  {
   "cell_type": "markdown",
   "metadata": {},
   "source": [
    "### Now make a function that calculates the volume of a cylinder. \n",
    "The volume of a cylinder is calculated by multiplying the surface area of the circle with the height of the cylinder. Use the function you wrote above to calculate the circle area."
   ]
  },
  {
   "cell_type": "code",
   "execution_count": null,
   "metadata": {},
   "outputs": [],
   "source": [
    "def cylinder_volume(radius, height):\n",
    "    # Call your circle_area function\n",
    "    return\n",
    "print() # call your cylinder_volume function here with some radius and height"
   ]
  },
  {
   "cell_type": "markdown",
   "metadata": {},
   "source": [
    "## Mixing numbers and strings\n",
    "Let's combine some arithmetic with our knowledge about strings.\n",
    "\n",
    "The code below contains some errors. Fix them!"
   ]
  },
  {
   "cell_type": "code",
   "execution_count": null,
   "metadata": {},
   "outputs": [],
   "source": [
    "radius = 2\n",
    "height = \"3\"\n",
    "area = circle_area(radius)\n",
    "volume = cylinder_volume(radius, height)\n",
    "print(\"The circle's area is \" + area + \" and the cylinder's volume is \" + volume)"
   ]
  },
  {
   "cell_type": "markdown",
   "metadata": {},
   "source": [
    "### Some more mixing with numbers and strings\n",
    "\n",
    "Given two sample DNA strings print out the length of each string as well as the combined length. The output should be on the format:\n",
    "\n",
    "\"DNA1 has $x$ nucleotides, DNA2 has $y$ nucleotides. In total they contain $z$ nucleotides.\"\n",
    "\n",
    "where $x,y,z$ are replaced by the lengths."
   ]
  },
  {
   "cell_type": "code",
   "execution_count": null,
   "metadata": {},
   "outputs": [],
   "source": [
    "dna1 = \"CTGACTGCAACGGGCAA\"\n",
    "dna2 = \"CTGTGTGGATTAAA\"\n",
    "# Add some code that prints the lengths here"
   ]
  },
  {
   "cell_type": "markdown",
   "metadata": {},
   "source": [
    "## 2.3 Logic statements\n",
    "\n",
    "An if statement will run some code depending on the logic statement inside.\n"
   ]
  },
  {
   "cell_type": "code",
   "execution_count": null,
   "metadata": {},
   "outputs": [],
   "source": [
    "if (2 > 1): # (2 > 1) is the logic statement here\n",
    "    print(\"Two is greater than one\") # this line is run if the logic statement is true\n",
    "else:\n",
    "    print(\"Two is not greater than one\") # this line is run if the logic statement is false"
   ]
  },
  {
   "cell_type": "markdown",
   "metadata": {},
   "source": [
    "Use your knowledge of if statements and logic statements to create a function that takes two DNA strings and returns the longer one"
   ]
  },
  {
   "cell_type": "code",
   "execution_count": null,
   "metadata": {},
   "outputs": [],
   "source": [
    "def longer_string():\n",
    "    # Add your code here\n",
    "    #\n",
    "    #\n",
    "    \n",
    "long = longer_string(dna1, dna2)\n",
    "print(long)"
   ]
  },
  {
   "cell_type": "markdown",
   "metadata": {},
   "source": [
    "## 2.4 Lists\n",
    "\n",
    "A list is multiple variables in a sequence. In python lists are created with the [ ] operator."
   ]
  },
  {
   "cell_type": "code",
   "execution_count": null,
   "metadata": {},
   "outputs": [],
   "source": [
    "empty = [] # creates an empty list\n",
    "dragons = [\"Drogon\", \"Rhaegal\"] # creates a list with two strings\n",
    "dragons.append(\"Viserion\") # adds a string to the end of the list\n",
    "print(dragons[0]) # print the first dragon's name"
   ]
  },
  {
   "cell_type": "markdown",
   "metadata": {},
   "source": [
    "To repeat some functions that manipulates lists, write some code that removes the \"a\" from the numbers list below and inserts it into the letters list. And do the same thing with the 3.\n",
    "\n",
    "The lists should be [1, 2, 3] and [\"a\", \"b\", \"c\"] when you are done.\n",
    "\n",
    "Hint: The **insert(index, item)** function can insert an item into a list at a given index. The **remove(item)** function removes an item from a list."
   ]
  },
  {
   "cell_type": "code",
   "execution_count": null,
   "metadata": {},
   "outputs": [],
   "source": [
    "numbers = [1, 2, \"a\"]\n",
    "letters = [\"b\", \"c\", 3]\n",
    "\n",
    "# Add your code here\n",
    "# \n",
    "# \n",
    "# \n",
    "# \n",
    "\n",
    "print(numbers) # should print [1, 2, 3]\n",
    "print(letters) # should print ['a', 'b', 'c']"
   ]
  },
  {
   "cell_type": "markdown",
   "metadata": {},
   "source": [
    "## 2.5 For loops\n",
    "\n",
    "A for loop will run a block of code some amount of times."
   ]
  },
  {
   "cell_type": "code",
   "execution_count": null,
   "metadata": {},
   "outputs": [],
   "source": [
    "for i in range(0, 10):\n",
    "    print(i)"
   ]
  },
  {
   "cell_type": "markdown",
   "metadata": {},
   "source": [
    "Now make your own for loop. Given a list of numbers multiply each by $2$. "
   ]
  },
  {
   "cell_type": "code",
   "execution_count": null,
   "metadata": {},
   "outputs": [],
   "source": [
    "numbers = [1, 3, 5, 9]\n",
    "def mul(nrs):\n",
    "    # Add for loop here\n",
    "    #\n",
    "    #\n",
    "    return nrs\n",
    "\n",
    "print(mul(numbers))"
   ]
  },
  {
   "cell_type": "markdown",
   "metadata": {},
   "source": [
    "Lists become very useful when used in combination with loops.\n",
    "\n",
    "Let's go back to our DNA strings, strings are actually just a list of characters and can be used with a for loop to go over each character.\n",
    "\n",
    "Write a function that takes a string and returns the number of A's.\n",
    "\n",
    "Hint: **for c in s:** will loop over the string **s**, you can access each character with the variable __c__ inside the loop."
   ]
  },
  {
   "cell_type": "code",
   "execution_count": null,
   "metadata": {},
   "outputs": [],
   "source": [
    "def count_a(dna):\n",
    "    count = 0\n",
    "    # Add a for loop here\n",
    "    #\n",
    "    #\n",
    "    return count\n",
    "\n",
    "\n",
    "print(count_a(\"AGTC\")) # should print 1\n",
    "print(count_a(\"TGCTGCTGC\")) # should print 0\n",
    "print(count_a(\"AAATCGCCCTAAAAATCGCTATAAAGCTTCGCTATGCGCGCGCGCA\")) # should print 14"
   ]
  },
  {
   "cell_type": "markdown",
   "metadata": {},
   "source": [
    "## 2.6 Dictionaries\n",
    "\n",
    "A dictionary can be used to map *keys* to *values*.\n",
    "\n",
    "Example:"
   ]
  },
  {
   "cell_type": "code",
   "execution_count": null,
   "metadata": {},
   "outputs": [],
   "source": [
    "city_populations = {\n",
    "    \"Malmoe\" : 312012, # Here \"Malmoe\" is the key and it's value is 312012 \n",
    "    \"Gothenburg\" : 572779,\n",
    "    \"Lund\" : 91086,\n",
    "    \"Kiruna\" : 18148,\n",
    "    \"Visby\" : 24330\n",
    "}\n",
    "print(city_populations[\"Malmoe\"])"
   ]
  },
  {
   "cell_type": "markdown",
   "metadata": {},
   "source": [
    "A for loop can be used to iterate over the *keys* in a dictionary.\n",
    "\n",
    "Example:"
   ]
  },
  {
   "cell_type": "code",
   "execution_count": null,
   "metadata": {},
   "outputs": [],
   "source": [
    "for key in city_populations:\n",
    "    print(key + \" \" + str(city_populations[key]))"
   ]
  },
  {
   "cell_type": "markdown",
   "metadata": {},
   "source": [
    "Write a function that calculates the total population of the cities, and one function that calculates the average population."
   ]
  },
  {
   "cell_type": "code",
   "execution_count": null,
   "metadata": {},
   "outputs": [],
   "source": [
    "def total_population(populations):\n",
    "    return\n",
    "\n",
    "def average_population(populations):\n",
    "    return\n",
    "\n",
    "print(total_population(city_populations))\n",
    "print(average_population(city_populations))"
   ]
  },
  {
   "cell_type": "markdown",
   "metadata": {},
   "source": [
    "## Bonus Exercises"
   ]
  },
  {
   "cell_type": "markdown",
   "metadata": {},
   "source": [
    "**Triangle of stars**\n",
    "\n",
    "Draw the triangle below\n",
    "\n",
    "Hint: Use two for loops"
   ]
  },
  {
   "cell_type": "code",
   "execution_count": null,
   "metadata": {},
   "outputs": [],
   "source": [
    "# *\n",
    "# **\n",
    "# ***\n",
    "# ****\n",
    "# *****\n",
    "# ******\n",
    "# *******\n",
    "# ********\n",
    "# *********"
   ]
  },
  {
   "cell_type": "markdown",
   "metadata": {},
   "source": [
    "**Fizz buzz**\n",
    "\n",
    "https://en.wikipedia.org/wiki/Fizz_buzz\n",
    "\n",
    "Fizz buzz is a group word game for children to teach them about division. Players take turns to count incrementally, replacing any number divisible by three with the word \"fizz\", and any number divisible by five with the word \"buzz\".\n",
    "\n",
    "Example:\n",
    "\n",
    "1, 2, Fizz, 4, Buzz, Fizz, 7, 8, Fizz, Buzz, 11, Fizz, 13, 14, Fizz Buzz, 16, 17, Fizz, 19, Buzz, Fizz, 22, 23, Fizz, Buzz, 26, Fizz, 28, 29, Fizz Buzz, 31, 32, Fizz, 34, Buzz, Fizz, ..."
   ]
  },
  {
   "cell_type": "code",
   "execution_count": null,
   "metadata": {},
   "outputs": [],
   "source": []
  }
 ],
 "metadata": {
  "kernelspec": {
   "display_name": "Python 3",
   "language": "python",
   "name": "python3"
  },
  "language_info": {
   "codemirror_mode": {
    "name": "ipython",
    "version": 3
   },
   "file_extension": ".py",
   "mimetype": "text/x-python",
   "name": "python",
   "nbconvert_exporter": "python",
   "pygments_lexer": "ipython3",
   "version": "3.6.5"
  }
 },
 "nbformat": 4,
 "nbformat_minor": 2
}
