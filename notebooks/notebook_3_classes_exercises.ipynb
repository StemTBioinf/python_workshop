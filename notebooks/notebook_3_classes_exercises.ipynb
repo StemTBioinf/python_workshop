{
 "cells": [
  {
   "cell_type": "markdown",
   "metadata": {},
   "source": [
    "# Exercise 3\n",
    "### In this exercise you will work with classes. We will start by creating a small class and then as we move along we will add more to it. \n",
    "\n",
    "In this exercise you will make a Person class. A code skeleton is given in the cell below. In each task you will add more code to your Person class in the first cell.  \n",
    "\n",
    "## 3.1 Getting started\n",
    "\n",
    "Run the code below"
   ]
  },
  {
   "cell_type": "code",
   "execution_count": 2,
   "metadata": {},
   "outputs": [
    {
     "name": "stdout",
     "output_type": "stream",
     "text": [
      "Neil Armstrong\n"
     ]
    }
   ],
   "source": [
    "class Person:\n",
    "    def __init__(self, name):\n",
    "        self.name = name\n",
    "    def __str__(self):\n",
    "        return\n",
    "        \n",
    "astronaut1 = Person(\"Neil Armstrong\")\n",
    "print(astronaut1)"
   ]
  },
  {
   "cell_type": "markdown",
   "metadata": {},
   "source": [
    "**It did not print the name but something else, why? Fix it so it prints out the name instead.**\n",
    "\n",
    "Now change the person class so that instead of having one name attribute it has one <code>firstname</code> and one <code>lastname</code>.\n",
    "The code below should print the first and last name of the person."
   ]
  },
  {
   "cell_type": "code",
   "execution_count": null,
   "metadata": {},
   "outputs": [],
   "source": [
    "astronaut1 = Person(\"Neil\", \"Armstrong\")\n",
    "print(astronaut1.firstname)\n",
    "print(astronaut1.lastname)"
   ]
  },
  {
   "cell_type": "markdown",
   "metadata": {},
   "source": [
    "Let's also add a function to our Person class. Just to make sure Neil Armstrong was the first man on the moon, make a function that prints \"Yes\" if the person's name is \"Neil Armstrong\" and \"No\" otherwise."
   ]
  },
  {
   "cell_type": "code",
   "execution_count": null,
   "metadata": {},
   "outputs": [],
   "source": [
    "astronaut1 = Person(\"Neil\", \"Armstrong\")\n",
    "astronaut1.was_first() # should print \"Yes\"\n",
    "astronaut2 = Person(\"Buzz\", \"Aldrin\")\n",
    "astronaut2.was_first() # should print \"No\""
   ]
  },
  {
   "cell_type": "markdown",
   "metadata": {},
   "source": [
    "## 3.2 More attributes and functions\n",
    "\n",
    "The Person class so far is not very useful. \n",
    "\n",
    "We now want to measure the GC-content of our astronauts. To do this we need some DNA strings.\n",
    "\n",
    "First add a <code>DNA</code> attribute to your Person class. All attributes do not need to be sent to the initializer as arguments. They have to be defined there, but can be assigned later. Adding attributes as arguments to the initializer makes the object **require** some value."
   ]
  },
  {
   "cell_type": "code",
   "execution_count": 1,
   "metadata": {},
   "outputs": [],
   "source": [
    "class AttributeExampleClass:\n",
    "    def __init__(self, a):\n",
    "        self.a = a # a is in the argument list, assign its value\n",
    "        self.b = 0 # b is not in the argument list, assign a default value"
   ]
  },
  {
   "cell_type": "markdown",
   "metadata": {},
   "source": [
    "Now you will modify your Person class. Copy it from the first cell and add it here"
   ]
  },
  {
   "cell_type": "code",
   "execution_count": null,
   "metadata": {},
   "outputs": [],
   "source": [
    "# you can copy the Person class here if you don't like scrolling\n",
    "class Person:\n",
    "    def __init__(self, name):\n",
    "        self.name = name"
   ]
  },
  {
   "cell_type": "code",
   "execution_count": null,
   "metadata": {},
   "outputs": [],
   "source": [
    "astronaut1 = Person(\"Neil\", \"Armstrong\")\n",
    "astronaut1.DNA = \"GCATCAGCATCGAA\"\n",
    "print(astronaut1.DNA) # should print \"GCATCAGCATCGAA\""
   ]
  },
  {
   "cell_type": "markdown",
   "metadata": {},
   "source": [
    "To measure the GC-content, we must iterate over the DNA string.\n",
    "\n",
    "Add a function <code>gc_content</code> that calculates the GC-content of the Person class. To do this you need to count all the G's and C's in the string, divide by the total length and then multiply with 100.\n",
    "\n",
    "Hint: Recall how to use for loops with strings from the previous exercise when you counted A's."
   ]
  },
  {
   "cell_type": "code",
   "execution_count": null,
   "metadata": {},
   "outputs": [],
   "source": [
    "astronaut1 = Person(\"Neil\", \"Armstrong\")\n",
    "astronaut1.DNA = \"GCATCAGGCATCAATTATAGCGCCCTATATCATCGAA\"\n",
    "print(astronaut1.gc_content()) # should print 43.243243243243246 "
   ]
  },
  {
   "cell_type": "markdown",
   "metadata": {},
   "source": [
    "So far we have only accessed attributes, but not changed them.\n",
    "\n",
    "We now want to track the number of astronomical bodies that our astronauts have visited. Add a list attribute to your Person class with the default value <code>[\"Earth\"]</code>.\n",
    "\n",
    "Then create a <code>visit_astro_body</code> function that adds a new body to the list."
   ]
  },
  {
   "cell_type": "code",
   "execution_count": null,
   "metadata": {},
   "outputs": [],
   "source": [
    "astronaut1 = Person(\"Neil\", \"Armstrong\")\n",
    "print(astronaut1.visited) # should print [\"Earth\"]\n",
    "astronaut1.visit_astro_body(\"Moon\")\n",
    "print(astronaut1.visited) # should print [\"Earth\", \"Moon\"]\n",
    "# Feel free to visit other planets ..."
   ]
  },
  {
   "cell_type": "markdown",
   "metadata": {},
   "source": [
    "Unfortunately space is dangerous and has changed our astronauts DNA<sup>[citation needed]</sup>.\n",
    "\n",
    "Modify the <code>visit_astro_body</code> function so it adds \"AAAAAAAAA\" at the end of the DNA string."
   ]
  },
  {
   "cell_type": "code",
   "execution_count": null,
   "metadata": {},
   "outputs": [],
   "source": [
    "astronaut1 = Person(\"Neil\", \"Armstrong\")\n",
    "astronaut1.DNA = \"GCATCAGGCATCAATTATAGCGCCCTATATCATCGAA\"\n",
    "print(astronaut1.gc_content())\n",
    "astronaut1.visit_astro_body(\"Moon\")\n",
    "print(astronaut1.gc_content())"
   ]
  },
  {
   "cell_type": "markdown",
   "metadata": {},
   "source": [
    "##  3.3 Multiple objects of the same class\n",
    "\n",
    "When we write <code>astronaut1 = Person(...)</code> it creates an **object** called astronaut1 of the Person **class**.\n",
    "\n",
    "We can create more **objects** of the same class and they will work independently.\n"
   ]
  },
  {
   "cell_type": "code",
   "execution_count": null,
   "metadata": {},
   "outputs": [],
   "source": [
    "astronaut1 = Person(\"Neil\", \"Armstrong\")\n",
    "astronaut2 = Person(\"Buzz\", \"Aldrin\")\n",
    "\n",
    "astronaut1.DNA = \"GCATCAGGCATCAATTATAGCGCCCTATATCATCGAA\"\n",
    "astronaut2.DNA = \"GCATCAGGCATCACCCATAGCGCCCTAGCGCATCGAA\""
   ]
  },
  {
   "cell_type": "markdown",
   "metadata": {},
   "source": [
    "Fill in the function below that takes two Person objects and prints the name of the Person with the highest GC-content.\n",
    "\n",
    "Then make Buzz visit the other places as explained in the comments below"
   ]
  },
  {
   "cell_type": "code",
   "execution_count": null,
   "metadata": {},
   "outputs": [],
   "source": [
    "def highest_GC():\n",
    "    return\n",
    "\n",
    "print(highest_GC(astronaut1, astronaut2)) # should print \"Buzz Aldrin\"\n",
    "# Buzz goes on a trip\n",
    "# Visit Mars\n",
    "# Visit Jupiter\n",
    "# Visit Pluto\n",
    "# Visit Sagittarius A* \n",
    "print(highest_GC(astronaut1, astronaut2)) # should print \"Neil Armstrong\""
   ]
  },
  {
   "cell_type": "code",
   "execution_count": null,
   "metadata": {},
   "outputs": [],
   "source": []
  },
  {
   "cell_type": "code",
   "execution_count": null,
   "metadata": {},
   "outputs": [],
   "source": []
  }
 ],
 "metadata": {
  "kernelspec": {
   "display_name": "Python 3",
   "language": "python",
   "name": "python3"
  },
  "language_info": {
   "codemirror_mode": {
    "name": "ipython",
    "version": 3
   },
   "file_extension": ".py",
   "mimetype": "text/x-python",
   "name": "python",
   "nbconvert_exporter": "python",
   "pygments_lexer": "ipython3",
   "version": "3.6.5"
  }
 },
 "nbformat": 4,
 "nbformat_minor": 2
}
