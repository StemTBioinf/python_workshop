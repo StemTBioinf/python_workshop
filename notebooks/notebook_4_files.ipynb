{
 "cells": [
  {
   "cell_type": "markdown",
   "metadata": {},
   "source": [
    "# File operations"
   ]
  },
  {
   "cell_type": "markdown",
   "metadata": {},
   "source": [
    "### Now we will try some very basic file operations. We will try to save some basic string content into a file and then open and read the content of that file. The focus here is not so much on reading and writing as much but on the operations that usually accompany file reading."
   ]
  },
  {
   "cell_type": "markdown",
   "metadata": {},
   "source": [
    "##### Below we create a multiline string"
   ]
  },
  {
   "cell_type": "code",
   "execution_count": 1,
   "metadata": {},
   "outputs": [],
   "source": [
    "message = \"\"\"Please, you take him outside now.\n",
    "I should.\n",
    "Afterwards we entered some offbeat museum excitedly.\n",
    "\"\"\""
   ]
  },
  {
   "cell_type": "markdown",
   "metadata": {},
   "source": [
    "#### In the cell below in just two lines of code, we will save `message` string to a file called `test_text.txt`"
   ]
  },
  {
   "cell_type": "code",
   "execution_count": 2,
   "metadata": {},
   "outputs": [],
   "source": [
    "with open('../data/test_text.txt', 'w') as file: # 'w' for writing\n",
    "    file.write(message)"
   ]
  },
  {
   "cell_type": "code",
   "execution_count": 3,
   "metadata": {},
   "outputs": [
    {
     "ename": "FileNotFoundError",
     "evalue": "[Errno 2] No such file or directory: '../data123/test_text.txt'",
     "output_type": "error",
     "traceback": [
      "\u001b[1;31m---------------------------------------------------------------------------\u001b[0m",
      "\u001b[1;31mFileNotFoundError\u001b[0m                         Traceback (most recent call last)",
      "\u001b[1;32m<ipython-input-3-49834c06b7b9>\u001b[0m in \u001b[0;36m<module>\u001b[1;34m()\u001b[0m\n\u001b[1;32m----> 1\u001b[1;33m \u001b[1;32mwith\u001b[0m \u001b[0mopen\u001b[0m\u001b[1;33m(\u001b[0m\u001b[1;34m'../data123/test_text.txt'\u001b[0m\u001b[1;33m,\u001b[0m \u001b[1;34m'w'\u001b[0m\u001b[1;33m)\u001b[0m \u001b[1;32mas\u001b[0m \u001b[0mfile\u001b[0m\u001b[1;33m:\u001b[0m \u001b[1;31m# Make sure the directory exists otherwise you get an error\u001b[0m\u001b[1;33m\u001b[0m\u001b[0m\n\u001b[0m\u001b[0;32m      2\u001b[0m     \u001b[0mfile\u001b[0m\u001b[1;33m.\u001b[0m\u001b[0mwrite\u001b[0m\u001b[1;33m(\u001b[0m\u001b[0mmessage\u001b[0m\u001b[1;33m)\u001b[0m\u001b[1;33m\u001b[0m\u001b[0m\n",
      "\u001b[1;31mFileNotFoundError\u001b[0m: [Errno 2] No such file or directory: '../data123/test_text.txt'"
     ]
    }
   ],
   "source": [
    "with open('../data123/test_text.txt', 'w') as file: # Make sure the directory exists otherwise you get an error\n",
    "    file.write(message)"
   ]
  },
  {
   "cell_type": "code",
   "execution_count": null,
   "metadata": {},
   "outputs": [],
   "source": [
    "with open('../data/test_text.txt', 'r') as file:\n",
    "    for line in file:\n",
    "        print (line)"
   ]
  },
  {
   "cell_type": "code",
   "execution_count": 4,
   "metadata": {},
   "outputs": [
    {
     "ename": "FileNotFoundError",
     "evalue": "[Errno 2] No such file or directory: '../data/test_text.tx'",
     "output_type": "error",
     "traceback": [
      "\u001b[1;31m---------------------------------------------------------------------------\u001b[0m",
      "\u001b[1;31mFileNotFoundError\u001b[0m                         Traceback (most recent call last)",
      "\u001b[1;32m<ipython-input-4-e4a1f1dfebec>\u001b[0m in \u001b[0;36m<module>\u001b[1;34m()\u001b[0m\n\u001b[1;32m----> 1\u001b[1;33m \u001b[1;32mwith\u001b[0m \u001b[0mopen\u001b[0m\u001b[1;33m(\u001b[0m\u001b[1;34m'../data/test_text.tx'\u001b[0m\u001b[1;33m,\u001b[0m \u001b[1;34m'r'\u001b[0m\u001b[1;33m)\u001b[0m \u001b[1;32mas\u001b[0m \u001b[0mfile\u001b[0m\u001b[1;33m:\u001b[0m \u001b[1;31m# When opening a file. The file should exist otherwise you get an error\u001b[0m\u001b[1;33m\u001b[0m\u001b[0m\n\u001b[0m\u001b[0;32m      2\u001b[0m     \u001b[1;32mfor\u001b[0m \u001b[0mline\u001b[0m \u001b[1;32min\u001b[0m \u001b[0mfile\u001b[0m\u001b[1;33m:\u001b[0m\u001b[1;33m\u001b[0m\u001b[0m\n\u001b[0;32m      3\u001b[0m         \u001b[0mprint\u001b[0m \u001b[1;33m(\u001b[0m\u001b[0mline\u001b[0m\u001b[1;33m)\u001b[0m\u001b[1;33m\u001b[0m\u001b[0m\n",
      "\u001b[1;31mFileNotFoundError\u001b[0m: [Errno 2] No such file or directory: '../data/test_text.tx'"
     ]
    }
   ],
   "source": [
    "with open('../data/test_text.tx', 'r') as file: # When opening a file. The file should exist otherwise you get an error\n",
    "    for line in file:\n",
    "        print (line)"
   ]
  },
  {
   "cell_type": "code",
   "execution_count": 5,
   "metadata": {},
   "outputs": [
    {
     "name": "stdout",
     "output_type": "stream",
     "text": [
      "['Please,', 'you', 'take', 'him', 'outside', 'now.\\n']\n",
      "['I', 'should.\\n']\n",
      "['Afterwards', 'we', 'entered', 'some', 'offbeat', 'museum', 'excitedly.\\n']\n"
     ]
    }
   ],
   "source": [
    "with open('../data/test_text.txt', 'r') as file:\n",
    "    for line in file:\n",
    "        print (line.split(' '))"
   ]
  },
  {
   "cell_type": "code",
   "execution_count": 6,
   "metadata": {},
   "outputs": [
    {
     "name": "stdout",
     "output_type": "stream",
     "text": [
      "Please, you take him outside now.\n",
      "I should.\n",
      "Afterwards we entered some offbeat museum excitedly.\n"
     ]
    }
   ],
   "source": [
    "with open('../data/test_text.txt', 'r') as file:\n",
    "    for line in file:\n",
    "        print (line.rstrip('\\n'))"
   ]
  },
  {
   "cell_type": "code",
   "execution_count": 7,
   "metadata": {},
   "outputs": [
    {
     "name": "stdout",
     "output_type": "stream",
     "text": [
      "Please,\n",
      "you\n",
      "take\n",
      "him\n",
      "outside\n",
      "now.\n",
      "I\n",
      "should.\n",
      "Afterwards\n",
      "we\n",
      "entered\n",
      "some\n",
      "offbeat\n",
      "museum\n",
      "excitedly.\n"
     ]
    }
   ],
   "source": [
    "with open('../data/test_text.txt', 'r') as file:\n",
    "    for line in file:\n",
    "        words = line.rstrip('\\n').split(' ')\n",
    "        for i in words:\n",
    "            print (i)"
   ]
  },
  {
   "cell_type": "code",
   "execution_count": 8,
   "metadata": {},
   "outputs": [
    {
     "name": "stdout",
     "output_type": "stream",
     "text": [
      "P\n",
      "y\n",
      "t\n",
      "h\n",
      "o\n",
      "n\n",
      "\n",
      "I\n",
      "s\n",
      "\n",
      "A\n",
      "w\n",
      "e\n",
      "s\n",
      "o\n",
      "m\n",
      "e\n",
      "\n"
     ]
    }
   ],
   "source": [
    "with open('../data/test_text.txt', 'r') as file:\n",
    "    for line in file:\n",
    "        words = line.rstrip('\\n').split(' ')\n",
    "        for i in words:\n",
    "            print (i[0])\n",
    "        print ()"
   ]
  },
  {
   "cell_type": "code",
   "execution_count": 9,
   "metadata": {},
   "outputs": [
    {
     "name": "stdout",
     "output_type": "stream",
     "text": [
      "['P', 'y', 't', 'h', 'o', 'n']\n",
      "['I', 's']\n",
      "['A', 'w', 'e', 's', 'o', 'm', 'e']\n"
     ]
    }
   ],
   "source": [
    "with open('../data/test_text.txt', 'r') as file:\n",
    "    for line in file:\n",
    "        words = line.rstrip('\\n').split(' ')\n",
    "        new_word = []\n",
    "        for i in words:\n",
    "            new_word.append(i[0])\n",
    "        print (new_word)"
   ]
  },
  {
   "cell_type": "code",
   "execution_count": 10,
   "metadata": {},
   "outputs": [
    {
     "name": "stdout",
     "output_type": "stream",
     "text": [
      "Python\n",
      "Is\n",
      "Awesome\n"
     ]
    }
   ],
   "source": [
    "with open('../data/test_text.txt', 'r') as file:\n",
    "    for line in file:\n",
    "        words = line.rstrip('\\n').split(' ')\n",
    "        new_word = []\n",
    "        for i in words:\n",
    "            new_word.append(i[0])\n",
    "        print (''.join(new_word))"
   ]
  },
  {
   "cell_type": "code",
   "execution_count": 11,
   "metadata": {},
   "outputs": [
    {
     "name": "stdout",
     "output_type": "stream",
     "text": [
      "['Python', 'Is', 'Awesome']\n"
     ]
    }
   ],
   "source": [
    "new_sentence = []\n",
    "with open('../data/test_text.txt', 'r') as file:\n",
    "    for line in file:\n",
    "        words = line.rstrip('\\n').split(' ')\n",
    "        new_word = []\n",
    "        for i in words:\n",
    "            new_word.append(i[0])\n",
    "        new_sentence.append(''.join(new_word))\n",
    "print (new_sentence)"
   ]
  },
  {
   "cell_type": "code",
   "execution_count": 12,
   "metadata": {},
   "outputs": [
    {
     "name": "stdout",
     "output_type": "stream",
     "text": [
      "Python Is Awesome\n"
     ]
    }
   ],
   "source": [
    "new_sentence = []\n",
    "with open('../data/test_text.txt', 'r') as file:\n",
    "    for line in file:\n",
    "        words = line.rstrip('\\n').split(' ')\n",
    "        new_word = []\n",
    "        for i in words:\n",
    "            new_word.append(i[0])\n",
    "        new_sentence.append(''.join(new_word))\n",
    "print (' '.join(new_sentence))"
   ]
  },
  {
   "cell_type": "code",
   "execution_count": null,
   "metadata": {},
   "outputs": [],
   "source": []
  }
 ],
 "metadata": {
  "kernelspec": {
   "display_name": "Python 3",
   "language": "python",
   "name": "python3"
  },
  "language_info": {
   "codemirror_mode": {
    "name": "ipython",
    "version": 3
   },
   "file_extension": ".py",
   "mimetype": "text/x-python",
   "name": "python",
   "nbconvert_exporter": "python",
   "pygments_lexer": "ipython3",
   "version": "3.6.5"
  }
 },
 "nbformat": 4,
 "nbformat_minor": 2
}
