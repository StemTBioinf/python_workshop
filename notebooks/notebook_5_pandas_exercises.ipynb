{
 "cells": [
  {
   "cell_type": "markdown",
   "metadata": {},
   "source": [
    "# Exercise 5\n",
    "\n",
    "In the previous exercise on files we read a csv-file and saved the values in dictionaries.\n",
    "\n",
    "Typically, we do not want to write code that reads csv-files, because others have already done so.\n",
    "\n",
    "Now we will instead explore how we can use pandas to handle data. To start we will use the planets.csv file to get started with some pandas functions. Then we will move on to some more interesting data.\n",
    "\n",
    "## 5.1 DataFrames\n",
    "\n",
    "Start by reading the <code>planets.csv</code> file (located in <code>\"../data/exercises/planets.csv\"</code>) using the pandas method <code>read_csv(filename)</code>. Print the dataframe to see what it looks like.\n",
    "\n",
    "When printing the dataframe just type the name of it without using <code>print()</code>. Notebook will format it nicely for you."
   ]
  },
  {
   "cell_type": "code",
   "execution_count": null,
   "metadata": {},
   "outputs": [],
   "source": [
    "import pandas # to access the pandas functions it must first be imported\n",
    "\n",
    "# Read csv\n"
   ]
  },
  {
   "cell_type": "markdown",
   "metadata": {},
   "source": [
    "If you had time in the previous exercise, we asked you to interact with the planets data. Pandas can of course do this for you.\n",
    "\n",
    "Recall that we can extract a column with <code>my_dataframe[\"column name\"]</code>. Some example functions that you can use on the columns are; <code>sum()</code>, <code>mean()</code>, <code>min()</code>, <code>max()</code>\n",
    "\n",
    "Test the mentioned functions below."
   ]
  },
  {
   "cell_type": "code",
   "execution_count": null,
   "metadata": {},
   "outputs": [],
   "source": [
    "# print the total number of moons\n",
    "\n",
    "# print the greatest mass\n",
    "\n",
    "# print the smallest diameter\n",
    "\n",
    "# print the average gravity\n"
   ]
  },
  {
   "cell_type": "markdown",
   "metadata": {},
   "source": [
    "Let's add some data to our dataframe. Create a list with 10 entries (one for each planet) and let each entry be <code>\"yes\"</code> or <code>\"no\"</code> whether or not humans have been on the planet. Then add this list as a new column to the planets dataframe.\n",
    "\n",
    "The order of your list entries should be the same as the order of the planets.\n",
    "\n",
    "A coloumn can be added to a dataframe using <code>my_dataframe[\"coloumn name\"] = list_with_values</code>.\n",
    "\n",
    "Hint: A list with <code>\"yes\"</code> and <code>\"no\"</code> is created with <code>[ \"yes\", \"no\", \"no\" ... ]</code>."
   ]
  },
  {
   "cell_type": "code",
   "execution_count": null,
   "metadata": {},
   "outputs": [],
   "source": []
  },
  {
   "cell_type": "markdown",
   "metadata": {},
   "source": [
    "Pandas can also sort the dataframe based on the values in a column.\n",
    "\n",
    "Now sort the dataframe by diameter using the <code>sort_values</code> function."
   ]
  },
  {
   "cell_type": "code",
   "execution_count": null,
   "metadata": {},
   "outputs": [],
   "source": []
  },
  {
   "cell_type": "markdown",
   "metadata": {},
   "source": [
    "## 5.2 More DataFrames\n",
    "\n",
    "Now let us try with a more complex dataset called the 'Titanic: Machine Learning from Disaster'. This dataset contains information about the passenger onboard the Titanic. The dataset includes information such as sex, age, if they survived etc.\n",
    "You can find it in <code>../data/exercises/titanic.csv</code>\n",
    "\n",
    "Start by reading the csv into a dataframe. Print the dataframe and look around a bit to get a feel of the data."
   ]
  },
  {
   "cell_type": "code",
   "execution_count": null,
   "metadata": {},
   "outputs": [],
   "source": []
  },
  {
   "cell_type": "markdown",
   "metadata": {},
   "source": [
    "Let's start investigating the data. First of all, we would like to know the survival rate.  \n",
    "\n",
    "Use the <code>mean()</code> function on the <code>Survived</code> column."
   ]
  },
  {
   "cell_type": "code",
   "execution_count": null,
   "metadata": {},
   "outputs": [],
   "source": [
    "# Add your code here"
   ]
  },
  {
   "cell_type": "markdown",
   "metadata": {},
   "source": [
    "It turns out that the survival rate was not the same for every type of passenger. Use the <code>groupby()</code> function to group the dataframe by <code>Pclass</code> and then calculate the survival rate for each passenger class. \n",
    "\n",
    "You can do this on multiple lines, one step at a time.\n",
    "\n",
    "Hint: <code>df.groupby('Age')</code> groups the dataframe <code>df</code> by the column <code>Age</code>"
   ]
  },
  {
   "cell_type": "code",
   "execution_count": null,
   "metadata": {},
   "outputs": [],
   "source": [
    "# Add code to calculate the survival rate of each class."
   ]
  },
  {
   "cell_type": "markdown",
   "metadata": {},
   "source": [
    "We can also use Pandas to operate on multiple columns at the same time. Let's see how the sex of our passengers affected the survival rate, age and fare.\n",
    "\n",
    "To extract multiple columns we use <code>df[['column1', 'column2', 'column3']]</code>.\n",
    "\n",
    "Group the dataframe by sex, then use the <code>mean()</code> function on the <code>Survived</code>, <code>Age</code> and <code>Fare</code> columns."
   ]
  },
  {
   "cell_type": "code",
   "execution_count": null,
   "metadata": {},
   "outputs": [],
   "source": [
    "# Add code here"
   ]
  },
  {
   "cell_type": "markdown",
   "metadata": {},
   "source": [
    "Let's try to visualise the age of the passengers. Pandas comes with some built in <code>plot()</code> functions.\n",
    "\n",
    "Use <code>plot(kind='hist', bins=70)</code> on the <code>Age</code> column to see how the age of the passengers is distributed.\n",
    "\n",
    "If you have the time; experiment with some other arguments than <code>hist</code> and <code>70</code>. The different options for <code>kind</code> can be found [here](https://pandas.pydata.org/pandas-docs/stable/reference/api/pandas.DataFrame.plot.html)."
   ]
  },
  {
   "cell_type": "code",
   "execution_count": null,
   "metadata": {},
   "outputs": [],
   "source": [
    "# Add histogram code here"
   ]
  },
  {
   "cell_type": "markdown",
   "metadata": {},
   "source": [
    "Finally, let's plot the survival rates of the different passenger classes. Reuse the code from 3 tasks ago when you calculated the survival rate for each passenger class and use <code>plot(kind='bar')</code> to plot them."
   ]
  },
  {
   "cell_type": "code",
   "execution_count": null,
   "metadata": {},
   "outputs": [],
   "source": []
  },
  {
   "cell_type": "markdown",
   "metadata": {},
   "source": [
    "## If you have the time\n",
    "\n",
    "Experiment more with the data :)"
   ]
  },
  {
   "cell_type": "code",
   "execution_count": null,
   "metadata": {},
   "outputs": [],
   "source": []
  }
 ],
 "metadata": {
  "kernelspec": {
   "display_name": "Python 3",
   "language": "python",
   "name": "python3"
  },
  "language_info": {
   "codemirror_mode": {
    "name": "ipython",
    "version": 3
   },
   "file_extension": ".py",
   "mimetype": "text/x-python",
   "name": "python",
   "nbconvert_exporter": "python",
   "pygments_lexer": "ipython3",
   "version": "3.7.0"
  }
 },
 "nbformat": 4,
 "nbformat_minor": 2
}
