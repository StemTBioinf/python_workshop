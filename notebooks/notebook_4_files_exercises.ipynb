{
 "cells": [
  {
   "cell_type": "markdown",
   "metadata": {},
   "source": [
    "# Exercises\n",
    "\n",
    "In these exercises we will practice reading and writing to files.\n",
    "\n",
    "## Exercise 1) Basic file input and output\n",
    "\n",
    "Recall that we can open and read a file with:"
   ]
  },
  {
   "cell_type": "code",
   "execution_count": null,
   "metadata": {},
   "outputs": [],
   "source": [
    "with open(\"../data/dna.txt\", \"r\") as file:\n",
    "    for line in file:\n",
    "        print(line.rstrip())"
   ]
  },
  {
   "cell_type": "markdown",
   "metadata": {},
   "source": [
    "Try running the code above to see what the file contains.\n",
    "\n",
    "We want to store the things in the file in some variables.\n",
    "\n",
    "Try using <code>file.readline()</code> to read only the first line, store it in a variable and print it."
   ]
  },
  {
   "cell_type": "code",
   "execution_count": null,
   "metadata": {},
   "outputs": [],
   "source": [
    "with open(\"../data/dna.txt\", \"r\") as file:\n",
    "    # Add your code here"
   ]
  },
  {
   "cell_type": "markdown",
   "metadata": {},
   "source": [
    "We also want to store the rest of the file though. Try doing this by adding each line after the first one to a list and use <code>''.join(list_with_lines)</code> to turn the list into one very long string, and finally print the string. Make sure you removed the line endings with <code>rstrip()</code>.\n",
    "\n",
    "Hint: Using <code>for line in file</code> will continue reading where the last <code>readline()</code> stopped."
   ]
  },
  {
   "cell_type": "code",
   "execution_count": null,
   "metadata": {},
   "outputs": [],
   "source": [
    "with open(\"../data/dna.txt\", \"r\") as file:\n",
    "    # Add your code here"
   ]
  },
  {
   "cell_type": "markdown",
   "metadata": {},
   "source": [
    "Write a function that transcribes the DNA in your string into RNA.\n",
    "\n",
    "Hint: There are multiple ways of doing this. One way is to go over the DNA string character by character and for each one writing the appropriate RNA character to a new string"
   ]
  },
  {
   "cell_type": "code",
   "execution_count": null,
   "metadata": {},
   "outputs": [],
   "source": [
    "# Add your code here"
   ]
  },
  {
   "cell_type": "markdown",
   "metadata": {},
   "source": [
    "Save the id from the DNA file and the RNA string into a new file. \n",
    "\n",
    "If you want to: Add a line ending after every 60th nucleotide, just like the DNA file.\n",
    "\n",
    "Recall that we can create new files by just opening them, and writing to them by using <code>file.write(string)</code>"
   ]
  },
  {
   "cell_type": "code",
   "execution_count": null,
   "metadata": {},
   "outputs": [],
   "source": [
    "with open(\"../data/rna.txt\", \"w\") as file:\n",
    "    # Add you code here"
   ]
  },
  {
   "cell_type": "markdown",
   "metadata": {},
   "source": [
    "## Exercise 2) More advanced file input and output\n",
    "\n",
    "Handling long and complicated files is often tedious but inevitable in programming. The file <code>dna.txt</code> we used in the previous exercise is in a format known as the [FASTA format](https://en.wikipedia.org/wiki/FASTA_format).\n",
    "\n",
    "Another commonly used format is [CSV](https://en.wikipedia.org/wiki/Comma-separated_values), or comma-seperated values.\n",
    "\n",
    "\n",
    "The file <code>planets.csv</code> contains some facts about planets (and other bodies).\n",
    "\n",
    "Let's take a look at it: (data taken from [here](https://nssdc.gsfc.nasa.gov/planetary/factsheet/))"
   ]
  },
  {
   "cell_type": "code",
   "execution_count": null,
   "metadata": {},
   "outputs": [],
   "source": [
    "with open(\"../data/planets.csv\", \"r\") as file:\n",
    "    for line in file:\n",
    "        print(line.rstrip())"
   ]
  },
  {
   "cell_type": "markdown",
   "metadata": {},
   "source": [
    "We want to store what is in the file in some way.\n",
    "\n",
    "Read the file and store the each comma-seperated value **in the first line** in a list. Ignore the rest of the file for now.\n",
    "\n",
    "Hint: use the <code>split(string)</code> function."
   ]
  },
  {
   "cell_type": "code",
   "execution_count": null,
   "metadata": {},
   "outputs": [],
   "source": [
    "with open(\"../data/planets.csv\", \"r\") as file:\n",
    "    # Add your code here"
   ]
  },
  {
   "cell_type": "markdown",
   "metadata": {},
   "source": [
    "Now read the rest of the file and put the appropriate values in a list of dictionaries. Each dictionary will contain the data of **one** planet. The keys should be the words you stored in the previous task.\n",
    "\n",
    "To access the data of one planet we will use a list <code>planets = []</code>. Each element in this list is a dictionary. <code>planets[0][\"name\"]</code> should return the name of the first planet: Mercury.\n",
    "\n",
    "One way to do this is to use two for loops. One will go over each line in the file as we have done earlier. The other one will go over each value in that line and store it in a dictionary.\n",
    "\n",
    "Hint: empty dictionaries can be created with <code>{}</code>. To add a key and a value to a dictionary use <code>dict[key] = value</code>.\n",
    "\n",
    "Some code and comments is given below to help you."
   ]
  },
  {
   "cell_type": "code",
   "execution_count": null,
   "metadata": {},
   "outputs": [],
   "source": [
    "with open(\"../data/planets.csv\", \"r\") as file:\n",
    "    # Read the first line and save it to a list\n",
    "    #\n",
    "    planets = [] # creates an empty list\n",
    "    # Read all the remaining lines in the file\n",
    "    #\n",
    "        new_planet = {} # creates an empty dictionary\n",
    "        # fill new_planet with values here\n",
    "        #\n",
    "        planets.append(new_planet) # append the planets data to the list\n",
    "        \n",
    "print(planets)\n",
    "print(planets[6][\"moons\"]) # should print 62"
   ]
  },
  {
   "cell_type": "markdown",
   "metadata": {},
   "source": [
    "### If you have the time\n",
    "\n",
    "Write a function that prints the name of the planet with the largest diameter, using the data from the previous task."
   ]
  },
  {
   "cell_type": "code",
   "execution_count": null,
   "metadata": {},
   "outputs": [],
   "source": []
  },
  {
   "cell_type": "markdown",
   "metadata": {},
   "source": [
    "Write a function that prints the total number of moons in the solar system."
   ]
  },
  {
   "cell_type": "code",
   "execution_count": null,
   "metadata": {},
   "outputs": [],
   "source": []
  },
  {
   "cell_type": "markdown",
   "metadata": {},
   "source": [
    "Below is a function that returns the volume of a sphere, given its radius. Use it to calculate the total volume of all bodies in the solar system."
   ]
  },
  {
   "cell_type": "code",
   "execution_count": null,
   "metadata": {},
   "outputs": [],
   "source": [
    "def sphere_volume(radius):\n",
    "    return ((4 * radius**3 * 3.1415) / 3)"
   ]
  },
  {
   "cell_type": "code",
   "execution_count": null,
   "metadata": {},
   "outputs": [],
   "source": []
  }
 ],
 "metadata": {
  "kernelspec": {
   "display_name": "Python 3",
   "language": "python",
   "name": "python3"
  },
  "language_info": {
   "codemirror_mode": {
    "name": "ipython",
    "version": 3
   },
   "file_extension": ".py",
   "mimetype": "text/x-python",
   "name": "python",
   "nbconvert_exporter": "python",
   "pygments_lexer": "ipython3",
   "version": "3.7.0"
  }
 },
 "nbformat": 4,
 "nbformat_minor": 2
}
